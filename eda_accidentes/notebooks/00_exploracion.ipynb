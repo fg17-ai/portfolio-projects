{
 "cells": [
  {
   "cell_type": "markdown",
   "id": "9656a5f9",
   "metadata": {},
   "source": [
    "# ***Exploracion de datasets***"
   ]
  },
  {
   "cell_type": "markdown",
   "id": "19e22d74",
   "metadata": {},
   "source": [
    "Configurando el notebook para que tenga acceso a todos los archivos, agregando la ruta base del proyecto"
   ]
  },
  {
   "cell_type": "code",
   "execution_count": 1,
   "id": "cfea8091",
   "metadata": {},
   "outputs": [],
   "source": [
    "import sys\n",
    "from pathlib import Path \n",
    "\n",
    "PROJECT_ROOT = Path().resolve().parent\n",
    "sys.path.append(str(PROJECT_ROOT))"
   ]
  },
  {
   "cell_type": "markdown",
   "id": "e51668c3",
   "metadata": {},
   "source": [
    "Importando librerias axuliares para el correcto funcionamiento y legibilidad del notebook"
   ]
  },
  {
   "cell_type": "code",
   "execution_count": 2,
   "id": "25656673",
   "metadata": {},
   "outputs": [],
   "source": [
    "import config\n",
    "from src import utils"
   ]
  },
  {
   "cell_type": "markdown",
   "id": "8e41f3ba",
   "metadata": {},
   "source": [
    "## ***Importando los datasets sin procesar***"
   ]
  },
  {
   "cell_type": "code",
   "execution_count": 3,
   "id": "690e0a3b",
   "metadata": {},
   "outputs": [],
   "source": [
    "df_s = utils.cargar_datos_csv(ruta_carpeta = config.RAW_DATA_DIR, pref = \"fallecidos_siniestros\",\n",
    "                              suf = [2013,2014,2015,2016,2017,2018,2019], metadata = True)"
   ]
  },
  {
   "cell_type": "markdown",
   "id": "ea60d9bc",
   "metadata": {},
   "source": [
    "## ***Explorando los metadatos obtenidos de cada dataset***"
   ]
  },
  {
   "cell_type": "code",
   "execution_count": 4,
   "id": "b6cd802b",
   "metadata": {},
   "outputs": [
    {
     "name": "stdout",
     "output_type": "stream",
     "text": [
      "('fallecidos_siniestros_2013', {'rows': 567, 'columns': 14, 'columns_list': ['Fecha y hora', 'Departamento', 'Localidad', 'Jurisdiccion ', 'Tipo de Siniestro', 'Vehiculo', 'Rol', 'Edad', 'Sexo', 'Fallecido a los Dias', 'Otro vehiculo', 'Lugar del Siniestro', 'X', 'Y'], 'memory_size': 0.35286521911621094, 'file_path': 'C:\\\\Users\\\\Favian\\\\Documents\\\\GitHub\\\\portfolio-projects\\\\eda_accidentes\\\\data\\\\raw\\\\datos-fallecidos-en-siniestros-de-trnsito-2013.csv', 'encoding': 'cp1250'})\n",
      "('fallecidos_siniestros_2014', {'rows': 538, 'columns': 14, 'columns_list': ['Fecha y hora', 'Departamento', 'Localidad', 'Jurisdiccion ', 'Tipo de Siniestro', 'Vehiculo', 'Rol', 'Edad', 'Sexo', 'Fallecido a los Dias', 'Otro vehiculo', 'Lugar del Siniestro', 'X', 'Y'], 'memory_size': 0.33495616912841797, 'file_path': 'C:\\\\Users\\\\Favian\\\\Documents\\\\GitHub\\\\portfolio-projects\\\\eda_accidentes\\\\data\\\\raw\\\\datos-fallecidos-en-siniestros-de-trnsito-2014.csv', 'encoding': 'cp1250'})\n",
      "('fallecidos_siniestros_2015', {'rows': 506, 'columns': 14, 'columns_list': ['Fecha y hora', 'Departamento', 'Localidad', 'Jurisdiccion ', 'Tipo de Siniestro', 'Vehiculo', 'Rol', 'Edad', 'Sexo', 'Fallecido a los Dias', 'Otro vehiculo', 'Lugar del Siniestro', 'X', 'Y'], 'memory_size': 0.3153877258300781, 'file_path': 'C:\\\\Users\\\\Favian\\\\Documents\\\\GitHub\\\\portfolio-projects\\\\eda_accidentes\\\\data\\\\raw\\\\datos-fallecidos-en-siniestros-de-trnsito-2015.csv', 'encoding': 'cp1250'})\n",
      "('fallecidos_siniestros_2016', {'rows': 446, 'columns': 14, 'columns_list': ['Fecha y hora', 'Departamento', 'Localidad', 'Jurisdiccion ', 'Tipo de Siniestro', 'Vehiculo', 'Rol', 'Edad', 'Sexo', 'Fallecido a los Dias', 'Otro vehiculo', 'Lugar del Siniestro', 'X', 'Y'], 'memory_size': 0.27692699432373047, 'file_path': 'C:\\\\Users\\\\Favian\\\\Documents\\\\GitHub\\\\portfolio-projects\\\\eda_accidentes\\\\data\\\\raw\\\\datos-fallecidos-en-siniestros-de-trnsito-2016.csv', 'encoding': 'cp1250'})\n",
      "('fallecidos_siniestros_2017', {'rows': 470, 'columns': 14, 'columns_list': ['Fecha y hora', 'Departamento', 'Localidad', 'Jurisdiccion ', 'Tipo de Siniestro', 'Vehiculo', 'Rol', 'Edad', 'Sexo', 'Fallecido a los Dias', 'Otro vehiculo', 'Lugar del Siniestro', 'X', 'Y'], 'memory_size': 0.3376045227050781, 'file_path': 'C:\\\\Users\\\\Favian\\\\Documents\\\\GitHub\\\\portfolio-projects\\\\eda_accidentes\\\\data\\\\raw\\\\datos-fallecidos-en-siniestros-de-trnsito-2017.csv', 'encoding': 'cp1250'})\n",
      "('fallecidos_siniestros_2018', {'rows': 528, 'columns': 14, 'columns_list': ['Fecha y hora', 'Departamento', 'Localidad', 'Jurisdiccion ', 'Tipo de Siniestro', 'Vehiculo', 'Rol', 'Edad', 'Sexo', 'Fallecido a los Dias', 'Otro vehiculo', 'Lugar del Siniestro', 'X', 'Y'], 'memory_size': 0.3269968032836914, 'file_path': 'C:\\\\Users\\\\Favian\\\\Documents\\\\GitHub\\\\portfolio-projects\\\\eda_accidentes\\\\data\\\\raw\\\\datos-fallecidos-en-siniestros-de-trnsito-2018.csv', 'encoding': 'cp1250'})\n",
      "('fallecidos_siniestros_2019', {'rows': 422, 'columns': 14, 'columns_list': ['Fecha y hora', 'Departamento', 'Localidad', 'Jurisdiccion ', 'Tipo de Siniestro', 'Vehiculo', 'Rol', 'Edad', 'Sexo', 'Fallecido a los Dias', 'Otro vehiculo', 'Lugar del Siniestro', 'X', 'Y'], 'memory_size': 0.26018524169921875, 'file_path': 'C:\\\\Users\\\\Favian\\\\Documents\\\\GitHub\\\\portfolio-projects\\\\eda_accidentes\\\\data\\\\raw\\\\datos-fallecidos-en-siniestros-de-trnsito-2019.csv', 'encoding': 'cp1250'})\n"
     ]
    }
   ],
   "source": [
    "for metada in df_s[1].items():\n",
    "    print(metada)"
   ]
  },
  {
   "cell_type": "markdown",
   "id": "d9cde27e",
   "metadata": {},
   "source": [
    "### **Analisis de los metadatos**\n",
    "\n",
    "_ _ _\n",
    "#### ***Elementos destacados***\n",
    "- Todos los datasets poseen igual estructura:\n",
    "    - Igual numero de columnas.\n",
    "    - Las columnas tienen el mismo nombre y orden.\n",
    "    - El encoding es igual.\n",
    "- El espacio requerido para almacenar el conjunto de datos es relativamente pequeño.\n",
    "- - -\n",
    "#### ***Problemas detectados***\n",
    "- No se detectan problemas en base a los metadatos generales, un analisis exhaustivo por columnas puede revelar si existen problemas en los datos.\n",
    "- - -\n",
    "#### ***Conclsuiones***\n",
    "- El conjunto de datasets puede concatenarse para formar un solo conjunto de datos ya que su estructura lo permite y esto es recomendable para hacer un analisis mas profundo de cada columna.\n"
   ]
  },
  {
   "cell_type": "markdown",
   "id": "0a0a7305",
   "metadata": {},
   "source": [
    "## ***Analizando los datos del dataset***"
   ]
  },
  {
   "cell_type": "markdown",
   "id": "4d3feedf",
   "metadata": {},
   "source": [
    "### **Concatenando los datsets**"
   ]
  },
  {
   "cell_type": "code",
   "execution_count": 5,
   "id": "6a07b696",
   "metadata": {},
   "outputs": [],
   "source": [
    "import pandas as pd\n",
    "df_concatenado =  pd.concat(df_s[0].values(), ignore_index=True)"
   ]
  },
  {
   "cell_type": "markdown",
   "id": "d1a3ac07",
   "metadata": {},
   "source": [
    "### **Mostrando primeras filas**"
   ]
  },
  {
   "cell_type": "code",
   "execution_count": 27,
   "id": "385e06c9",
   "metadata": {},
   "outputs": [
    {
     "data": {
      "text/html": [
       "<div>\n",
       "<style scoped>\n",
       "    .dataframe tbody tr th:only-of-type {\n",
       "        vertical-align: middle;\n",
       "    }\n",
       "\n",
       "    .dataframe tbody tr th {\n",
       "        vertical-align: top;\n",
       "    }\n",
       "\n",
       "    .dataframe thead th {\n",
       "        text-align: right;\n",
       "    }\n",
       "</style>\n",
       "<table border=\"1\" class=\"dataframe\">\n",
       "  <thead>\n",
       "    <tr style=\"text-align: right;\">\n",
       "      <th></th>\n",
       "      <th>Fecha y hora</th>\n",
       "      <th>Departamento</th>\n",
       "      <th>Localidad</th>\n",
       "      <th>Jurisdiccion</th>\n",
       "      <th>Tipo de Siniestro</th>\n",
       "      <th>Vehiculo</th>\n",
       "      <th>Rol</th>\n",
       "      <th>Edad</th>\n",
       "      <th>Sexo</th>\n",
       "      <th>Fallecido a los Dias</th>\n",
       "      <th>Otro vehiculo</th>\n",
       "      <th>Lugar del Siniestro</th>\n",
       "      <th>X</th>\n",
       "      <th>Y</th>\n",
       "    </tr>\n",
       "  </thead>\n",
       "  <tbody>\n",
       "    <tr>\n",
       "      <th>0</th>\n",
       "      <td>01/01/2013 23:15:00</td>\n",
       "      <td>CANELONES</td>\n",
       "      <td>N/C</td>\n",
       "      <td>NACIONAL</td>\n",
       "      <td>COLISIÓN CON OBSTÁCULO EN CALZADA</td>\n",
       "      <td>MOTO</td>\n",
       "      <td>CONDUCTOR</td>\n",
       "      <td>34.0</td>\n",
       "      <td>F</td>\n",
       "      <td>0</td>\n",
       "      <td>NaN</td>\n",
       "      <td>RUTA 101 km 24</td>\n",
       "      <td>589815.342914</td>\n",
       "      <td>6143862.763229</td>\n",
       "    </tr>\n",
       "    <tr>\n",
       "      <th>1</th>\n",
       "      <td>01/01/2013 23:35:00</td>\n",
       "      <td>SALTO</td>\n",
       "      <td>SALTO</td>\n",
       "      <td>DEPARTAMENTAL</td>\n",
       "      <td>ATROPELLO DE PEATÓN</td>\n",
       "      <td>PEATÓN</td>\n",
       "      <td>PEATÓN</td>\n",
       "      <td>52.0</td>\n",
       "      <td>F</td>\n",
       "      <td>0</td>\n",
       "      <td>MOTO</td>\n",
       "      <td>MAGALLANES próx. Barrio Chinchurreta</td>\n",
       "      <td>411579.766767</td>\n",
       "      <td>6526872.774553</td>\n",
       "    </tr>\n",
       "    <tr>\n",
       "      <th>2</th>\n",
       "      <td>03/01/2013 23:35:00</td>\n",
       "      <td>PAYSANDU</td>\n",
       "      <td>N/C</td>\n",
       "      <td>NACIONAL</td>\n",
       "      <td>COLISIÓN ENTRE VEHÍCULOS</td>\n",
       "      <td>AUTO</td>\n",
       "      <td>CONDUCTOR</td>\n",
       "      <td>34.0</td>\n",
       "      <td>M</td>\n",
       "      <td>8</td>\n",
       "      <td>CAMION</td>\n",
       "      <td>RUTA 3 km. 358</td>\n",
       "      <td>412321.543859</td>\n",
       "      <td>6407067.584348</td>\n",
       "    </tr>\n",
       "    <tr>\n",
       "      <th>3</th>\n",
       "      <td>04/01/2013 07:10:00</td>\n",
       "      <td>COLONIA</td>\n",
       "      <td>N/C</td>\n",
       "      <td>NACIONAL</td>\n",
       "      <td>DESPISTE</td>\n",
       "      <td>AUTO</td>\n",
       "      <td>CONDUCTOR</td>\n",
       "      <td>49.0</td>\n",
       "      <td>F</td>\n",
       "      <td>1</td>\n",
       "      <td>NaN</td>\n",
       "      <td>RUTA 21 esq. Dr Irastorza</td>\n",
       "      <td>379424.367175</td>\n",
       "      <td>6240356.261638</td>\n",
       "    </tr>\n",
       "    <tr>\n",
       "      <th>4</th>\n",
       "      <td>04/01/2013 11:00:00</td>\n",
       "      <td>CANELONES</td>\n",
       "      <td>PROGRESO</td>\n",
       "      <td>DEPARTAMENTAL</td>\n",
       "      <td>DESPISTE</td>\n",
       "      <td>AUTO</td>\n",
       "      <td>CONDUCTOR</td>\n",
       "      <td>91.0</td>\n",
       "      <td>M</td>\n",
       "      <td>0</td>\n",
       "      <td>NaN</td>\n",
       "      <td>CESAR MAYO GUTIERREZ senda CAMINO PELUFFO</td>\n",
       "      <td>570675.101605</td>\n",
       "      <td>6164479.534646</td>\n",
       "    </tr>\n",
       "    <tr>\n",
       "      <th>5</th>\n",
       "      <td>05/01/2013 00:20:00</td>\n",
       "      <td>RIVERA</td>\n",
       "      <td>N/C</td>\n",
       "      <td>DEPARTAMENTAL</td>\n",
       "      <td>DESPISTE</td>\n",
       "      <td>CAMIONETA</td>\n",
       "      <td>CONDUCTOR</td>\n",
       "      <td>56.0</td>\n",
       "      <td>M</td>\n",
       "      <td>0</td>\n",
       "      <td>NaN</td>\n",
       "      <td>CAMINO VECINAL PASO DEL CERRO</td>\n",
       "      <td>610696.850418</td>\n",
       "      <td>6545153.435079</td>\n",
       "    </tr>\n",
       "    <tr>\n",
       "      <th>6</th>\n",
       "      <td>06/01/2013 14:10:00</td>\n",
       "      <td>MONTEVIDEO</td>\n",
       "      <td>MONTEVIDEO</td>\n",
       "      <td>DEPARTAMENTAL</td>\n",
       "      <td>COLISIÓN ENTRE VEHÍCULOS</td>\n",
       "      <td>MOTO</td>\n",
       "      <td>CONDUCTOR</td>\n",
       "      <td>63.0</td>\n",
       "      <td>M</td>\n",
       "      <td>1</td>\n",
       "      <td>MOTO</td>\n",
       "      <td>AVENIDA LEZICA esq. GUANAHANY</td>\n",
       "      <td>568790.163179</td>\n",
       "      <td>6149287.466517</td>\n",
       "    </tr>\n",
       "    <tr>\n",
       "      <th>7</th>\n",
       "      <td>06/01/2013 15:30:00</td>\n",
       "      <td>RIVERA</td>\n",
       "      <td>N/C</td>\n",
       "      <td>NACIONAL</td>\n",
       "      <td>COLISIÓN ENTRE VEHÍCULOS</td>\n",
       "      <td>MOTO</td>\n",
       "      <td>CONDUCTOR</td>\n",
       "      <td>45.0</td>\n",
       "      <td>M</td>\n",
       "      <td>0</td>\n",
       "      <td>MOTO</td>\n",
       "      <td>RUTA 27 km 113</td>\n",
       "      <td>717522.584903</td>\n",
       "      <td>6483538.468099</td>\n",
       "    </tr>\n",
       "    <tr>\n",
       "      <th>8</th>\n",
       "      <td>06/01/2013 18:21:00</td>\n",
       "      <td>FLORIDA</td>\n",
       "      <td>N/C</td>\n",
       "      <td>NACIONAL</td>\n",
       "      <td>DESPISTE</td>\n",
       "      <td>AUTO</td>\n",
       "      <td>PASAJERO</td>\n",
       "      <td>34.0</td>\n",
       "      <td>F</td>\n",
       "      <td>1</td>\n",
       "      <td>NaN</td>\n",
       "      <td>RUTA 7 km. 145</td>\n",
       "      <td>636641.74031</td>\n",
       "      <td>6253050.992293</td>\n",
       "    </tr>\n",
       "    <tr>\n",
       "      <th>9</th>\n",
       "      <td>06/01/2013 20:50:00</td>\n",
       "      <td>MALDONADO</td>\n",
       "      <td>AIGUA</td>\n",
       "      <td>DEPARTAMENTAL</td>\n",
       "      <td>COLISIÓN CON OBSTÁCULO EN CALZADA</td>\n",
       "      <td>MOTO</td>\n",
       "      <td>CONDUCTOR</td>\n",
       "      <td>20.0</td>\n",
       "      <td>M</td>\n",
       "      <td>1</td>\n",
       "      <td>NaN</td>\n",
       "      <td>CONT. AGUSTONI ROSSI</td>\n",
       "      <td>706410.062734</td>\n",
       "      <td>6213348.041027</td>\n",
       "    </tr>\n",
       "  </tbody>\n",
       "</table>\n",
       "</div>"
      ],
      "text/plain": [
       "          Fecha y hora Departamento   Localidad  Jurisdiccion   \\\n",
       "0  01/01/2013 23:15:00    CANELONES         N/C       NACIONAL   \n",
       "1  01/01/2013 23:35:00        SALTO       SALTO  DEPARTAMENTAL   \n",
       "2  03/01/2013 23:35:00     PAYSANDU         N/C       NACIONAL   \n",
       "3  04/01/2013 07:10:00      COLONIA         N/C       NACIONAL   \n",
       "4  04/01/2013 11:00:00    CANELONES    PROGRESO  DEPARTAMENTAL   \n",
       "5  05/01/2013 00:20:00       RIVERA         N/C  DEPARTAMENTAL   \n",
       "6  06/01/2013 14:10:00   MONTEVIDEO  MONTEVIDEO  DEPARTAMENTAL   \n",
       "7  06/01/2013 15:30:00       RIVERA         N/C       NACIONAL   \n",
       "8  06/01/2013 18:21:00      FLORIDA         N/C       NACIONAL   \n",
       "9  06/01/2013 20:50:00    MALDONADO       AIGUA  DEPARTAMENTAL   \n",
       "\n",
       "                   Tipo de Siniestro   Vehiculo        Rol  Edad Sexo  \\\n",
       "0  COLISIÓN CON OBSTÁCULO EN CALZADA       MOTO  CONDUCTOR  34.0    F   \n",
       "1                ATROPELLO DE PEATÓN     PEATÓN     PEATÓN  52.0    F   \n",
       "2           COLISIÓN ENTRE VEHÍCULOS       AUTO  CONDUCTOR  34.0    M   \n",
       "3                           DESPISTE       AUTO  CONDUCTOR  49.0    F   \n",
       "4                           DESPISTE       AUTO  CONDUCTOR  91.0    M   \n",
       "5                           DESPISTE  CAMIONETA  CONDUCTOR  56.0    M   \n",
       "6           COLISIÓN ENTRE VEHÍCULOS       MOTO  CONDUCTOR  63.0    M   \n",
       "7           COLISIÓN ENTRE VEHÍCULOS       MOTO  CONDUCTOR  45.0    M   \n",
       "8                           DESPISTE       AUTO   PASAJERO  34.0    F   \n",
       "9  COLISIÓN CON OBSTÁCULO EN CALZADA       MOTO  CONDUCTOR  20.0    M   \n",
       "\n",
       "   Fallecido a los Dias Otro vehiculo  \\\n",
       "0                     0           NaN   \n",
       "1                     0          MOTO   \n",
       "2                     8        CAMION   \n",
       "3                     1           NaN   \n",
       "4                     0           NaN   \n",
       "5                     0           NaN   \n",
       "6                     1          MOTO   \n",
       "7                     0          MOTO   \n",
       "8                     1           NaN   \n",
       "9                     1           NaN   \n",
       "\n",
       "                         Lugar del Siniestro              X               Y  \n",
       "0                             RUTA 101 km 24  589815.342914  6143862.763229  \n",
       "1       MAGALLANES próx. Barrio Chinchurreta  411579.766767  6526872.774553  \n",
       "2                             RUTA 3 km. 358  412321.543859  6407067.584348  \n",
       "3                  RUTA 21 esq. Dr Irastorza  379424.367175  6240356.261638  \n",
       "4  CESAR MAYO GUTIERREZ senda CAMINO PELUFFO  570675.101605  6164479.534646  \n",
       "5              CAMINO VECINAL PASO DEL CERRO  610696.850418  6545153.435079  \n",
       "6              AVENIDA LEZICA esq. GUANAHANY  568790.163179  6149287.466517  \n",
       "7                             RUTA 27 km 113  717522.584903  6483538.468099  \n",
       "8                             RUTA 7 km. 145   636641.74031  6253050.992293  \n",
       "9                       CONT. AGUSTONI ROSSI  706410.062734  6213348.041027  "
      ]
     },
     "execution_count": 27,
     "metadata": {},
     "output_type": "execute_result"
    }
   ],
   "source": [
    "df_concatenado.head(10)"
   ]
  },
  {
   "cell_type": "markdown",
   "id": "d7a8ef22",
   "metadata": {},
   "source": [
    "### **Mostrando informacion genral de las columnas**"
   ]
  },
  {
   "cell_type": "code",
   "execution_count": 7,
   "id": "826dc67f",
   "metadata": {},
   "outputs": [
    {
     "name": "stdout",
     "output_type": "stream",
     "text": [
      "<class 'pandas.core.frame.DataFrame'>\n",
      "RangeIndex: 3477 entries, 0 to 3476\n",
      "Data columns (total 14 columns):\n",
      " #   Column                Non-Null Count  Dtype  \n",
      "---  ------                --------------  -----  \n",
      " 0   Fecha y hora          3477 non-null   object \n",
      " 1   Departamento          3477 non-null   object \n",
      " 2   Localidad             3477 non-null   object \n",
      " 3   Jurisdiccion          3477 non-null   object \n",
      " 4   Tipo de Siniestro     3477 non-null   object \n",
      " 5   Vehiculo              3477 non-null   object \n",
      " 6   Rol                   3477 non-null   object \n",
      " 7   Edad                  3433 non-null   float64\n",
      " 8   Sexo                  3476 non-null   object \n",
      " 9   Fallecido a los Dias  3477 non-null   int64  \n",
      " 10  Otro vehiculo         2405 non-null   object \n",
      " 11  Lugar del Siniestro   3477 non-null   object \n",
      " 12  X                     3476 non-null   object \n",
      " 13  Y                     3476 non-null   object \n",
      "dtypes: float64(1), int64(1), object(12)\n",
      "memory usage: 380.4+ KB\n",
      "None\n"
     ]
    }
   ],
   "source": [
    "print(df_concatenado.info())"
   ]
  },
  {
   "cell_type": "markdown",
   "id": "5fb23578",
   "metadata": {},
   "source": [
    "#### ***NOTA***:\n",
    "Las columnas '*X*' e '*Y*' no las detecta como **valores numericos**, cuando estas representan coordenadas."
   ]
  },
  {
   "cell_type": "markdown",
   "id": "53de44e9",
   "metadata": {},
   "source": [
    "### **Mostrando informacion de los valores de la columnas numericas**"
   ]
  },
  {
   "cell_type": "code",
   "execution_count": 8,
   "id": "a26f92e1",
   "metadata": {},
   "outputs": [
    {
     "data": {
      "text/html": [
       "<div>\n",
       "<style scoped>\n",
       "    .dataframe tbody tr th:only-of-type {\n",
       "        vertical-align: middle;\n",
       "    }\n",
       "\n",
       "    .dataframe tbody tr th {\n",
       "        vertical-align: top;\n",
       "    }\n",
       "\n",
       "    .dataframe thead th {\n",
       "        text-align: right;\n",
       "    }\n",
       "</style>\n",
       "<table border=\"1\" class=\"dataframe\">\n",
       "  <thead>\n",
       "    <tr style=\"text-align: right;\">\n",
       "      <th></th>\n",
       "      <th>Edad</th>\n",
       "      <th>Fallecido a los Dias</th>\n",
       "    </tr>\n",
       "  </thead>\n",
       "  <tbody>\n",
       "    <tr>\n",
       "      <th>count</th>\n",
       "      <td>3433.000000</td>\n",
       "      <td>3477.000000</td>\n",
       "    </tr>\n",
       "    <tr>\n",
       "      <th>mean</th>\n",
       "      <td>43.171570</td>\n",
       "      <td>1.437446</td>\n",
       "    </tr>\n",
       "    <tr>\n",
       "      <th>std</th>\n",
       "      <td>21.271568</td>\n",
       "      <td>3.771816</td>\n",
       "    </tr>\n",
       "    <tr>\n",
       "      <th>min</th>\n",
       "      <td>0.000000</td>\n",
       "      <td>0.000000</td>\n",
       "    </tr>\n",
       "    <tr>\n",
       "      <th>25%</th>\n",
       "      <td>24.000000</td>\n",
       "      <td>0.000000</td>\n",
       "    </tr>\n",
       "    <tr>\n",
       "      <th>50%</th>\n",
       "      <td>41.000000</td>\n",
       "      <td>0.000000</td>\n",
       "    </tr>\n",
       "    <tr>\n",
       "      <th>75%</th>\n",
       "      <td>60.000000</td>\n",
       "      <td>1.000000</td>\n",
       "    </tr>\n",
       "    <tr>\n",
       "      <th>max</th>\n",
       "      <td>96.000000</td>\n",
       "      <td>30.000000</td>\n",
       "    </tr>\n",
       "  </tbody>\n",
       "</table>\n",
       "</div>"
      ],
      "text/plain": [
       "              Edad  Fallecido a los Dias\n",
       "count  3433.000000           3477.000000\n",
       "mean     43.171570              1.437446\n",
       "std      21.271568              3.771816\n",
       "min       0.000000              0.000000\n",
       "25%      24.000000              0.000000\n",
       "50%      41.000000              0.000000\n",
       "75%      60.000000              1.000000\n",
       "max      96.000000             30.000000"
      ]
     },
     "execution_count": 8,
     "metadata": {},
     "output_type": "execute_result"
    }
   ],
   "source": [
    "df_concatenado.describe()"
   ]
  },
  {
   "cell_type": "markdown",
   "id": "19c9ea0c",
   "metadata": {},
   "source": [
    "### **Mostrando los valores unicos de las columnas con valores discretos**"
   ]
  },
  {
   "cell_type": "code",
   "execution_count": null,
   "id": "c2c5d05c",
   "metadata": {},
   "outputs": [
    {
     "data": {
      "text/plain": [
       "Fecha y hora            3213\n",
       "Departamento              19\n",
       "Localidad                301\n",
       "Jurisdiccion               2\n",
       "Tipo de Siniestro         10\n",
       "Vehiculo                  15\n",
       "Rol                        4\n",
       "Edad                      97\n",
       "Sexo                       2\n",
       "Fallecido a los Dias      30\n",
       "Otro vehiculo             21\n",
       "Lugar del Siniestro     3112\n",
       "X                       3085\n",
       "Y                       3083\n",
       "dtype: int64"
      ]
     },
     "execution_count": 32,
     "metadata": {},
     "output_type": "execute_result"
    }
   ],
   "source": [
    "#Cantidad de valores unicos por columna\n",
    "df_concatenado.nunique()"
   ]
  },
  {
   "cell_type": "code",
   "execution_count": 30,
   "id": "98bc79ca",
   "metadata": {},
   "outputs": [
    {
     "name": "stdout",
     "output_type": "stream",
     "text": [
      "Valores unicos de la columna Departamento: ['CANELONES' 'SALTO' 'PAYSANDU' 'COLONIA' 'RIVERA' 'MONTEVIDEO' 'FLORIDA'\n",
      " 'MALDONADO' 'ROCHA' 'CERRO LARGO' 'TACUAREMBO' 'DURAZNO' 'SAN JOSE'\n",
      " 'RIO NEGRO' 'ARTIGAS' 'FLORES' 'LAVALLEJA' 'SORIANO' 'TREINTA Y TRES']\n",
      "\n",
      "Valores unicos de la columna Jurisdiccion : ['NACIONAL' 'DEPARTAMENTAL']\n",
      "\n",
      "Valores unicos de la columna Tipo de Siniestro: ['COLISIÓN CON OBSTÁCULO EN CALZADA' 'ATROPELLO DE PEATÓN'\n",
      " 'COLISIÓN ENTRE VEHÍCULOS' 'DESPISTE' 'CAÍDA' 'ATROPELLO DE ANIMALES']\n",
      "\n",
      "Valores unicos de la columna Vehiculo: ['MOTO' 'PEATÓN' 'AUTO' 'CAMIONETA' 'BICICLETA' 'CABALLO' 'CAMION'\n",
      " 'OMNIBUS' 'TRACTOR' 'CARRO' 'CUATRICICLO' 'CUADRICICLO' 'MINIBUS'\n",
      " 'TRICICLO']\n",
      "\n",
      "Valores unicos de la columna Rol: ['CONDUCTOR' 'PEATÓN' 'PASAJERO']\n",
      "\n",
      "Valores unicos de la columna Sexo: ['F' 'M' nan]\n",
      "\n",
      "Valores unicos de la columna Fallecido a los Dias: [ 0  8  1  4 10 14  2  5  3 28 24  7  6 11 13 16  9 18 12 19 26 23 20 15\n",
      " 17 30 27 29 25 21]\n",
      "\n",
      "Valores unicos de la columna Otro vehiculo: [nan 'MOTO' 'CAMION' 'AUTO' 'CAMIONETA' 'OMNIBUS' 'MAQUINARIA' 'CABALLO'\n",
      " 'CARRO' 'BICICLETA' 'CAMION ESTAC.' 'PEATÓN' 'CUADRICICLO' 'TREN'\n",
      " 'TRACTOR' 'MAQUINA' 'CAMION PARADO' 'CONDUCTOR' 'TRICICLO CARGA' 'CAMIÓN'\n",
      " 'MAQUINARIA INDUSTRIAL' 'ZORRA']\n",
      "\n"
     ]
    }
   ],
   "source": [
    "for column in df_concatenado.columns:\n",
    "    valores_unicos = df_concatenado[column].unique()\n",
    "    if len(valores_unicos) <= 30:  # Mostrar solo si hay 30 o menos valores únicos\n",
    "        print(f\"Valores unicos de la columna {column}: {valores_unicos}\\n\")"
   ]
  },
  {
   "cell_type": "markdown",
   "id": "6ebfd044",
   "metadata": {},
   "source": [
    "Analisis final del datsets\n",
    "===\n",
    "_ _ _\n",
    "### ***Elementos destacados***\n",
    "- \n",
    "- - -\n",
    "### ***Problemas detectados***\n",
    "- \n",
    "- - -\n",
    "### ***Conclsuiones***\n",
    "- "
   ]
  }
 ],
 "metadata": {
  "kernelspec": {
   "display_name": "Python 3",
   "language": "python",
   "name": "python3"
  },
  "language_info": {
   "codemirror_mode": {
    "name": "ipython",
    "version": 3
   },
   "file_extension": ".py",
   "mimetype": "text/x-python",
   "name": "python",
   "nbconvert_exporter": "python",
   "pygments_lexer": "ipython3",
   "version": "3.12.0"
  }
 },
 "nbformat": 4,
 "nbformat_minor": 5
}
